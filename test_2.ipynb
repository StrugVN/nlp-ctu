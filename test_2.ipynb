{
 "cells": [
  {
   "cell_type": "code",
   "execution_count": 47,
   "id": "9fa75fbd",
   "metadata": {},
   "outputs": [],
   "source": [
    "import pandas as pd\n",
    "from tqdm import tqdm\n",
    "from pymongo import MongoClient\n",
    "import py_vncorenlp\n",
    "import re\n",
    "from collections import Counter\n",
    "import os\n",
    "from collections import defaultdict\n",
    "import numpy as np\n",
    "from math import log\n",
    "from tqdm import tqdm\n",
    "from sklearn.metrics.pairwise import cosine_similarity\n",
    "import math\n",
    "import re\n",
    "import unicodedata\n",
    "from dotenv import load_dotenv\n",
    "\n",
    "load_dotenv()\n",
    "\n",
    "MONGO_URI = os.getenv(\"MONGO_URI\")\n",
    "client = MongoClient(MONGO_URI)\n",
    "db = client[\"nlp\"]\n",
    "\n",
    "article_collection = db[\"article\"]      "
   ]
  },
  {
   "cell_type": "code",
   "execution_count": 2,
   "id": "3bbf6a23",
   "metadata": {},
   "outputs": [],
   "source": [
    "tf_idf_collection = db[\"article_tf_idf\"]\n",
    "list_tf_idf = list(tf_idf_collection.find({}))\n",
    "\n",
    "\n",
    "rows = []\n",
    "for doc in list_tf_idf:\n",
    "    article_id = doc['articleId']\n",
    "    tf_idf = doc.get('tf_idf', {})\n",
    "    tf_idf['articleId'] = article_id\n",
    "    rows.append(tf_idf)\n",
    "\n",
    "df_tf_idf_full = pd.DataFrame(rows)\n",
    "\n",
    "df_tf_idf_full.set_index('articleId', inplace=True)\n",
    "df_tf_idf_full = df_tf_idf_full.fillna(0)"
   ]
  },
  {
   "cell_type": "code",
   "execution_count": 49,
   "id": "ab066aba",
   "metadata": {},
   "outputs": [],
   "source": [
    "article_collection = db[\"article\"]\n",
    "list_articles = list(article_collection.find({}))\n",
    "\n",
    "df_articles = pd.DataFrame(list_articles)\n",
    "\n",
    "def fix_spacing(text):\n",
    "    text = re.sub(r'([.,!?;:])(?=\\S)', r'\\1 ', text)\n",
    "    text = re.sub(r'\\s+', ' ', text).strip()\n",
    "    return text\n",
    "\n",
    "def is_writer_signature(sentence):\n",
    "    sentence = sentence.strip().rstrip('.')\n",
    "    \n",
    "    if len(sentence.split()) <= 3 and sentence == sentence.title():\n",
    "        return True\n",
    "    \n",
    "    if re.fullmatch(r'[A-Z]\\.?', sentence) or re.fullmatch(r'[A-Z][a-z]+(\\s[A-Z][a-z]+)?', sentence):\n",
    "        return True\n",
    "\n",
    "    if \"Thực hiện\" in sentence or sentence.upper() == sentence:\n",
    "        return True\n",
    "\n",
    "    return False\n",
    "\n",
    "def remove_writer_name(text):\n",
    "    sentences = [s.strip() for s in text.strip().split('.') if s.strip()]\n",
    "    if not sentences:\n",
    "        return text\n",
    "    last = sentences[-1]\n",
    "    if is_writer_signature(last):\n",
    "        return '. '.join(sentences[:-1]) + '.' if len(sentences) > 1 else ''\n",
    "    return text\n",
    "\n",
    "# clear stuff like \\n \\xa0... from df['content]\n",
    "df_articles['content'] = df_articles['content'].apply(lambda x: re.sub(r'[\\n\\r\\t\\xa0\\u200b\\u202f]+', ' ', str(x)).strip())\n",
    "# fix spacing\n",
    "df_articles['content'] = df_articles['content'].apply(fix_spacing)\n",
    "# remove writer name\n",
    "df_articles['content'] = df_articles['content'].apply(remove_writer_name)"
   ]
  },
  {
   "cell_type": "code",
   "execution_count": 37,
   "id": "d52d5473",
   "metadata": {},
   "outputs": [],
   "source": [
    "def expand_query(token, model, topn=5):\n",
    "    expanded_tokens = {token}  \n",
    "\n",
    "    if token in model.wv:\n",
    "        similar_words = model.wv.most_similar(token, topn=topn)\n",
    "        for word, _ in similar_words:\n",
    "            expanded_tokens.add(word.replace('_', ' ')) \n",
    "\n",
    "    return expanded_tokens\n"
   ]
  },
  {
   "cell_type": "code",
   "execution_count": 5,
   "id": "c6d2039f",
   "metadata": {},
   "outputs": [],
   "source": [
    "def rank_documents_by_query(query, tf_idf, word_model, tokenizer, stopwords, expansion_weight=0.25):\n",
    "    # Tokenize query\n",
    "    segmented = tokenizer.word_segment(query)\n",
    "    query_tokens = []\n",
    "    for sentence in segmented:\n",
    "        words = sentence.split()\n",
    "        words = [w.replace(\"_\", \" \") for w in words]\n",
    "        words = [w.lower() for w in words if w.lower() not in stopwords]\n",
    "        query_tokens.extend(words)\n",
    "\n",
    "    word_counts = {}\n",
    "\n",
    "    for token in query_tokens:\n",
    "        word_counts[token] = word_counts.get(token, 0) + 1 \n",
    "        expanded_tokens = expand_query(token, word_model, topn=5)\n",
    "        for expanded in expanded_tokens:\n",
    "            if expanded != token and expanded not in stopwords:\n",
    "                word_counts[expanded] = word_counts.get(expanded, 0) + expansion_weight \n",
    "\n",
    "    total_terms = sum(word_counts.values())\n",
    "    if total_terms == 0:\n",
    "        return []\n",
    "\n",
    "    word_list = tf_idf.columns\n",
    "    query_vector = np.zeros(len(word_list))\n",
    "\n",
    "    for i, term in enumerate(word_list):\n",
    "        if term in word_counts:\n",
    "            query_vector[i] = word_counts[term] / total_terms\n",
    "\n",
    "    cosin_sim = cosine_similarity([query_vector], tf_idf.values)[0]\n",
    "\n",
    "    article_ids = tf_idf.index.tolist()\n",
    "    ranked = sorted(zip(article_ids, cosin_sim), key=lambda x: x[1], reverse=True)\n",
    "\n",
    "    return ranked\n"
   ]
  },
  {
   "cell_type": "code",
   "execution_count": 40,
   "id": "0bee5b19",
   "metadata": {},
   "outputs": [],
   "source": [
    "def search_articles(query):\n",
    "    results = rank_documents_by_query(query, df_tf_idf_full, word2vec_model, rdrsegmenter, stopwords)\n",
    "    result_ids = results[:10]\n",
    "    result_articles = list(article_collection.find({\"id\": {\"$in\": [item[0] for item in result_ids]}}))\n",
    "    return result_articles"
   ]
  },
  {
   "cell_type": "code",
   "execution_count": 3,
   "id": "102a4fd8",
   "metadata": {},
   "outputs": [],
   "source": [
    "import py_vncorenlp\n",
    "import os\n",
    "original_cwd = os.getcwd()\n",
    "rdrsegmenter = py_vncorenlp.VnCoreNLP(annotators=[\"wseg\", \"pos\", \"ner\", \"parse\"], save_dir=os.path.join(original_cwd, \"vncorenlp\"))\n",
    "os.chdir(original_cwd)"
   ]
  },
  {
   "cell_type": "code",
   "execution_count": null,
   "id": "194eac01",
   "metadata": {},
   "outputs": [],
   "source": []
  },
  {
   "cell_type": "code",
   "execution_count": 7,
   "id": "16e5a3b3",
   "metadata": {},
   "outputs": [],
   "source": [
    "with open('vietnamese-stopwords.txt', 'r', encoding='utf-8') as f:\n",
    "    stopwords = set(line.strip().lower() for line in f if line.strip())\n",
    "stopwords.add('sto')"
   ]
  },
  {
   "cell_type": "code",
   "execution_count": 18,
   "id": "e2d218c4",
   "metadata": {},
   "outputs": [],
   "source": [
    "from gensim.models import Word2Vec\n",
    "\n",
    "\n",
    "word2vec_model = Word2Vec.load(\"word2vec_vi_bao_st.model\")"
   ]
  },
  {
   "cell_type": "code",
   "execution_count": 21,
   "id": "f7302c09",
   "metadata": {},
   "outputs": [
    {
     "name": "stdout",
     "output_type": "stream",
     "text": [
      "thuận lợi: 0.5292\n",
      "hoạch định: 0.5065\n",
      "trợ lực: 0.4868\n",
      "nghẽn: 0.4859\n",
      "chưa thể: 0.4819\n",
      "tư liệu sản xuất: 0.4810\n",
      "không những: 0.4723\n",
      "cơ hội: 0.4714\n",
      "quyền năng: 0.4688\n",
      "đúng mức: 0.4676\n"
     ]
    }
   ],
   "source": [
    "similar_words = word2vec_model.wv.most_similar(\"điều kiện\", topn=10)\n",
    "for word, score in similar_words:\n",
    "    print(f\"{word}: {score:.4f}\")\n"
   ]
  },
  {
   "cell_type": "code",
   "execution_count": 24,
   "id": "620a0638",
   "metadata": {},
   "outputs": [],
   "source": [
    "annotate = rdrsegmenter.annotate_text('giao thông trên các tuyến đường chính ở thành phố sóc trăng trong giờ cao điểm sáng nay như thế nào')"
   ]
  },
  {
   "cell_type": "code",
   "execution_count": 17,
   "id": "a23dde2c",
   "metadata": {},
   "outputs": [],
   "source": [
    "import matplotlib.pyplot as plt\n",
    "import networkx as nx\n",
    "\n",
    "def draw_dependency_tree(tokens):\n",
    "    # Step 1: Build graph and labels\n",
    "    G = nx.DiGraph()\n",
    "    labels = {}\n",
    "\n",
    "    for token in tokens:\n",
    "        idx = token[\"index\"]\n",
    "        word = token[\"wordForm\"]\n",
    "        head = token[\"head\"]\n",
    "        dep = token[\"depLabel\"]\n",
    "        \n",
    "        G.add_node(idx, label=word)\n",
    "        labels[idx] = f\"{idx}: {word}\"\n",
    "        if head != 0:\n",
    "            G.add_edge(head, idx, label=dep)\n",
    "\n",
    "    # Step 2: Find root\n",
    "    root = next((t[\"index\"] for t in tokens if t[\"head\"] == 0), None)\n",
    "    if root is None:\n",
    "        raise ValueError(\"No root found in the token list.\")\n",
    "\n",
    "    # Step 3: Tree layout (top-down)\n",
    "    def hierarchy_pos(G, root, width=1.0, vert_gap=0.4, vert_loc=0, xcenter=0.5, pos=None):\n",
    "        if pos is None:\n",
    "            pos = {root: (xcenter, vert_loc)}\n",
    "        else:\n",
    "            pos[root] = (xcenter, vert_loc)\n",
    "        children = list(G.successors(root))\n",
    "        if len(children) != 0:\n",
    "            dx = width / len(children)\n",
    "            next_x = xcenter - width / 2 - dx / 2\n",
    "            for child in children:\n",
    "                next_x += dx\n",
    "                pos = hierarchy_pos(G, child, width=dx, vert_gap=vert_gap,\n",
    "                                    vert_loc=vert_loc - vert_gap, xcenter=next_x, pos=pos)\n",
    "        return pos\n",
    "\n",
    "    # Step 4: Draw graph\n",
    "    pos = hierarchy_pos(G, root)\n",
    "    plt.figure(figsize=(14, 8))\n",
    "    nx.draw(G, pos, labels=labels, with_labels=True, node_size=2000,\n",
    "            node_color=\"lightblue\", font_size=10)\n",
    "    edge_labels = nx.get_edge_attributes(G, 'label')\n",
    "    nx.draw_networkx_edge_labels(G, pos, edge_labels=edge_labels, font_color='red')\n",
    "\n",
    "    plt.axis('off')\n",
    "    plt.show()\n"
   ]
  },
  {
   "cell_type": "code",
   "execution_count": 18,
   "id": "f8396219",
   "metadata": {},
   "outputs": [
    {
     "data": {
      "image/png": "[encoded data removed]",
      "text/plain": [
       "<Figure size 1400x800 with 1 Axes>"
      ]
     },
     "metadata": {},
     "output_type": "display_data"
    }
   ],
   "source": [
    "draw_dependency_tree(rdrsegmenter.annotate_text('cho biết tình hình tai nạn giao thông ở quốc lộ dịp tết')[0])"
   ]
  },
  {
   "cell_type": "code",
   "execution_count": 60,
   "id": "b5946ef7",
   "metadata": {},
   "outputs": [],
   "source": [
    "import kenlm\n",
    "\n",
    "kenlm_model = kenlm.Model(\"vi_model_6gramVinToken.binary\")"
   ]
  },
  {
   "cell_type": "code",
   "execution_count": 3,
   "id": "f43fca42",
   "metadata": {},
   "outputs": [],
   "source": [
    "from transformers import AutoTokenizer, AutoModel, AutoModelForMaskedLM, BertModel\n",
    "import torch\n",
    "\n",
    "model_vin = AutoModel.from_pretrained(\"vinai/phobert-base\", torch_dtype=\"auto\", cache_dir=\"./transformers_cache\")\n",
    "tokenizer_vin = AutoTokenizer.from_pretrained(\"vinai/phobert-base\", cache_dir=\"./transformers_cache\")"
   ]
  },
  {
   "cell_type": "code",
   "execution_count": null,
   "id": "91e648aa",
   "metadata": {},
   "outputs": [],
   "source": [
    "from sklearn.metrics.pairwise import cosine_similarity\n",
    "import numpy as np\n",
    "\n",
    "def encode_sentence(sentence, model, tokenizer):\n",
    "    inputs = tokenizer(sentence, return_tensors=\"pt\", truncation=True, padding=True)\n",
    "    \n",
    "    with torch.no_grad():\n",
    "        outputs = model(**inputs)\n",
    "\n",
    "    cls_embedding = outputs.last_hidden_state[:, 0, :]\n",
    "    return cls_embedding\n",
    "\n",
    "\n",
    "def similarity_viBERT(sent1, sent2, model, tokenizer):\n",
    "    vec1 = encode_sentence(sent1, model, tokenizer).numpy() \n",
    "    vec2 = encode_sentence(sent2, model, tokenizer).numpy()\n",
    "    \n",
    "    sim = cosine_similarity(vec1, vec2)[0][0]\n",
    "    return sim\n"
   ]
  },
  {
   "cell_type": "code",
   "execution_count": 11,
   "id": "8fca0a5d",
   "metadata": {},
   "outputs": [],
   "source": [
    "padw = 'tình hình '\n",
    "\n",
    "s_base = \"tai nạn giao thông quốc lộ\"\n",
    "s2 = padw + \"tai nạn giao thông quốc lộ\"\n",
    "s3 =\"tai nạn giao thông\"\n",
    "s4 = \"tai nạn quốc lộ\"\n",
    "s5 = \"giao thông quốc lộ\"\n",
    "s6 = \"giao thông\""
   ]
  },
  {
   "cell_type": "code",
   "execution_count": 70,
   "id": "7dcd27cf",
   "metadata": {},
   "outputs": [
    {
     "name": "stderr",
     "output_type": "stream",
     "text": [
      "c:\\Python310\\lib\\site-packages\\torch\\nn\\modules\\module.py:1762: FutureWarning: `encoder_attention_mask` is deprecated and will be removed in version 4.55.0 for `BertSdpaSelfAttention.forward`.\n",
      "  return forward_call(*args, **kwargs)\n"
     ]
    },
    {
     "name": "stdout",
     "output_type": "stream",
     "text": [
      "0.8153698\n",
      "0.91143876\n",
      "0.7004467\n"
     ]
    },
    {
     "name": "stderr",
     "output_type": "stream",
     "text": [
      "c:\\Python310\\lib\\site-packages\\torch\\nn\\modules\\module.py:1762: FutureWarning: `encoder_attention_mask` is deprecated and will be removed in version 4.55.0 for `BertSdpaSelfAttention.forward`.\n",
      "  return forward_call(*args, **kwargs)\n",
      "c:\\Python310\\lib\\site-packages\\torch\\nn\\modules\\module.py:1762: FutureWarning: `encoder_attention_mask` is deprecated and will be removed in version 4.55.0 for `BertSdpaSelfAttention.forward`.\n",
      "  return forward_call(*args, **kwargs)\n",
      "c:\\Python310\\lib\\site-packages\\torch\\nn\\modules\\module.py:1762: FutureWarning: `encoder_attention_mask` is deprecated and will be removed in version 4.55.0 for `BertSdpaSelfAttention.forward`.\n",
      "  return forward_call(*args, **kwargs)\n"
     ]
    },
    {
     "name": "stdout",
     "output_type": "stream",
     "text": [
      "0.8698145\n",
      "0.7216284\n"
     ]
    },
    {
     "name": "stderr",
     "output_type": "stream",
     "text": [
      "c:\\Python310\\lib\\site-packages\\torch\\nn\\modules\\module.py:1762: FutureWarning: `encoder_attention_mask` is deprecated and will be removed in version 4.55.0 for `BertSdpaSelfAttention.forward`.\n",
      "  return forward_call(*args, **kwargs)\n"
     ]
    }
   ],
   "source": [
    "print(similarity_viBERT(s_base, s2, model_fpt, tokenizer_fpt))\n",
    "print(similarity_viBERT(s_base, s3, model_fpt, tokenizer_fpt))\n",
    "print(similarity_viBERT(s_base, s4, model_fpt, tokenizer_fpt))\n",
    "print(similarity_viBERT(s_base, s5, model_fpt, tokenizer_fpt))\n",
    "print(similarity_viBERT(s_base, s6, model_fpt, tokenizer_fpt))"
   ]
  },
  {
   "cell_type": "code",
   "execution_count": null,
   "id": "1952f6fe",
   "metadata": {},
   "outputs": [
    {
     "name": "stdout",
     "output_type": "stream",
     "text": [
      "tai nạn giao thông quốc lộ\n",
      "tình hình tai nạn giao thông quốc lộ: 0.919621963369446\n",
      "tai nạn giao thông: 0.9392341786895697\n"
     ]
    },
    {
     "name": "stderr",
     "output_type": "stream",
     "text": [
      "c:\\Python310\\lib\\site-packages\\torch\\nn\\modules\\module.py:1762: FutureWarning: `encoder_attention_mask` is deprecated and will be removed in version 4.55.0 for `RobertaSdpaSelfAttention.forward`.\n",
      "  return forward_call(*args, **kwargs)\n",
      "c:\\Python310\\lib\\site-packages\\torch\\nn\\modules\\module.py:1762: FutureWarning: `encoder_attention_mask` is deprecated and will be removed in version 4.55.0 for `RobertaSdpaSelfAttention.forward`.\n",
      "  return forward_call(*args, **kwargs)\n",
      "c:\\Python310\\lib\\site-packages\\torch\\nn\\modules\\module.py:1762: FutureWarning: `encoder_attention_mask` is deprecated and will be removed in version 4.55.0 for `RobertaSdpaSelfAttention.forward`.\n",
      "  return forward_call(*args, **kwargs)\n"
     ]
    },
    {
     "name": "stdout",
     "output_type": "stream",
     "text": [
      "tai nạn quốc lộ: 0.9306402373491547\n",
      "giao thông quốc lộ: 0.8958374215557643\n",
      "giao thông: 0.8394855533831355\n"
     ]
    },
    {
     "name": "stderr",
     "output_type": "stream",
     "text": [
      "c:\\Python310\\lib\\site-packages\\torch\\nn\\modules\\module.py:1762: FutureWarning: `encoder_attention_mask` is deprecated and will be removed in version 4.55.0 for `RobertaSdpaSelfAttention.forward`.\n",
      "  return forward_call(*args, **kwargs)\n",
      "c:\\Python310\\lib\\site-packages\\torch\\nn\\modules\\module.py:1762: FutureWarning: `encoder_attention_mask` is deprecated and will be removed in version 4.55.0 for `RobertaSdpaSelfAttention.forward`.\n",
      "  return forward_call(*args, **kwargs)\n"
     ]
    }
   ],
   "source": [
    "print(s_base)\n",
    "print(f'{s2}: {similarity_viBERT(s_base, s2, model_vin, tokenizer_vin)}')\n",
    "print(f'{s3}: {similarity_viBERT(s_base, s3, model_vin, tokenizer_vin)}')\n",
    "print(f'{s4}: {similarity_viBERT(s_base, s4, model_vin, tokenizer_vin)}')\n",
    "print(f'{s5}: {similarity_viBERT(s_base, s5, model_vin, tokenizer_vin)}')\n",
    "print(f'{s6}: {similarity_viBERT(s_base, s6, model_vin, tokenizer_vin)}')"
   ]
  },
  {
   "cell_type": "code",
   "execution_count": 31,
   "id": "39b27540",
   "metadata": {},
   "outputs": [
    {
     "name": "stderr",
     "output_type": "stream",
     "text": [
      "c:\\Python310\\lib\\site-packages\\torch\\nn\\modules\\module.py:1762: FutureWarning: `encoder_attention_mask` is deprecated and will be removed in version 4.55.0 for `RobertaSdpaSelfAttention.forward`.\n",
      "  return forward_call(*args, **kwargs)\n"
     ]
    },
    {
     "data": {
      "text/plain": [
       "0.84570456"
      ]
     },
     "execution_count": 31,
     "metadata": {},
     "output_type": "execute_result"
    }
   ],
   "source": [
    "similarity_viBERT(\n",
    "    'tình_hình tai_nạn giao_thông quốc_lộ'.replace('_', ' '),\n",
    "     'tai_nạn giao_thông quốc_lộ'.replace('_', ' '),\n",
    "     model_vin, tokenizer_vin)"
   ]
  },
  {
   "cell_type": "code",
   "execution_count": 49,
   "id": "d0abc189",
   "metadata": {},
   "outputs": [],
   "source": [
    "from sentence_transformers import SentenceTransformer, util\n",
    "\n",
    "# Load the model\n",
    "mMiniLM_model = SentenceTransformer(\"sentence-transformers/paraphrase-multilingual-MiniLM-L12-v2\")\n"
   ]
  },
  {
   "cell_type": "code",
   "execution_count": 50,
   "id": "d7017365",
   "metadata": {},
   "outputs": [],
   "source": [
    "def similarity_mMiniLM(sent1: str, sent2: str) -> float:\n",
    "    \"\"\"\n",
    "    Compute cosine similarity between two Vietnamese sentences\n",
    "    using the paraphrase-multilingual-MiniLM-L12-v2 model.\n",
    "    \"\"\"\n",
    "    embeddings = mMiniLM_model.encode([sent1, sent2], convert_to_tensor=True)\n",
    "    similarity = util.cos_sim(embeddings[0], embeddings[1]).item()\n",
    "    return similarity"
   ]
  },
  {
   "cell_type": "code",
   "execution_count": 68,
   "id": "4cd39f53",
   "metadata": {},
   "outputs": [
    {
     "name": "stdout",
     "output_type": "stream",
     "text": [
      "Similarity s2: 0.9628\n",
      "Similarity s3: 0.9663\n",
      "Similarity s4: 0.9240\n",
      "Similarity s5: 0.8160\n"
     ]
    }
   ],
   "source": [
    "# Example sentences (Vietnamese)\n",
    "padw = 'tình hình'\n",
    "\n",
    "s_base = padw + \"tai nạn giao thông quốc lộ?\"\n",
    "s2 = \"tai nạn giao thông quốc lộ?\"\n",
    "s3 = padw + \"tai nạn giao thông?\"\n",
    "s4 = padw + \"tai nạn quốc lộ?\"\n",
    "s5 = padw + \"giao thông quốc lộ?\"\n",
    "s5 = \"giao thông\"\n",
    "\n",
    "score = similarity_mMiniLM(s_base, s2)\n",
    "print(f\"Similarity s2: {score:.4f}\")\n",
    "\n",
    "score = similarity_mMiniLM(s_base, s3)\n",
    "print(f\"Similarity s3: {score:.4f}\")\n",
    "\n",
    "score = similarity_mMiniLM(s_base, s4)\n",
    "print(f\"Similarity s4: {score:.4f}\")\n",
    "\n",
    "score = similarity_mMiniLM(s_base, s5)\n",
    "print(f\"Similarity s5: {score:.4f}\")\n"
   ]
  }
 ],
 "metadata": {
  "kernelspec": {
   "display_name": "Python 3",
   "language": "python",
   "name": "python3"
  },
  "language_info": {
   "codemirror_mode": {
    "name": "ipython",
    "version": 3
   },
   "file_extension": ".py",
   "mimetype": "text/x-python",
   "name": "python",
   "nbconvert_exporter": "python",
   "pygments_lexer": "ipython3",
   "version": "3.10.8"
  }
 },
 "nbformat": 4,
 "nbformat_minor": 5
}
