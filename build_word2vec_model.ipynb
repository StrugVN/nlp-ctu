{
 "cells": [
  {
   "cell_type": "code",
   "execution_count": 1,
   "id": "ab010294",
   "metadata": {},
   "outputs": [],
   "source": [
    "import pandas as pd\n",
    "from tqdm import tqdm\n",
    "from pymongo import MongoClient\n",
    "import py_vncorenlp\n",
    "import re\n",
    "from collections import Counter\n",
    "import os\n",
    "from collections import defaultdict\n",
    "import numpy as np\n",
    "from math import log\n",
    "from tqdm import tqdm\n",
    "from sklearn.metrics.pairwise import cosine_similarity\n",
    "import math\n",
    "import re\n",
    "import unicodedata\n",
    "from dotenv import load_dotenv\n",
    "from gensim.models import Word2Vec\n",
    "\n",
    "load_dotenv()\n",
    "\n",
    "MONGO_URI = os.getenv(\"MONGO_URI\")\n",
    "client = MongoClient(MONGO_URI)\n",
    "db = client[\"nlp\"]\n",
    "\n",
    "article_collection = db[\"article\"]      "
   ]
  },
  {
   "cell_type": "code",
   "execution_count": 2,
   "id": "0903d10e",
   "metadata": {},
   "outputs": [],
   "source": [
    "df_article = pd.DataFrame(list(article_collection.find({})))"
   ]
  },
  {
   "cell_type": "code",
   "execution_count": 3,
   "id": "9a131ebc",
   "metadata": {},
   "outputs": [],
   "source": [
    "def fix_spacing(text):\n",
    "    text = re.sub(r'([.,!?;:])(?=\\S)', r'\\1 ', text)\n",
    "    text = re.sub(r'\\s+', ' ', text).strip()\n",
    "    return text\n",
    "\n",
    "def is_writer_signature(sentence):\n",
    "    sentence = sentence.strip().rstrip('.')\n",
    "    \n",
    "    if len(sentence.split()) <= 3 and sentence == sentence.title():\n",
    "        return True\n",
    "    \n",
    "    if re.fullmatch(r'[A-Z]\\.?', sentence) or re.fullmatch(r'[A-Z][a-z]+(\\s[A-Z][a-z]+)?', sentence):\n",
    "        return True\n",
    "\n",
    "    if \"Thực hiện\" in sentence or sentence.upper() == sentence:\n",
    "        return True\n",
    "\n",
    "    return False\n",
    "\n",
    "def remove_writer_name(text):\n",
    "    sentences = [s.strip() for s in text.strip().split('.') if s.strip()]\n",
    "    if not sentences:\n",
    "        return text\n",
    "    last = sentences[-1]\n",
    "    if is_writer_signature(last):\n",
    "        return '. '.join(sentences[:-1]) + '.' if len(sentences) > 1 else ''\n",
    "    return text\n",
    "\n",
    "# clear stuff like \\n \\xa0... from df['content]\n",
    "df_article['content'] = df_article['content'].apply(lambda x: re.sub(r'[\\n\\r\\t\\xa0\\u200b\\u202f]+', ' ', str(x)).strip())\n",
    "# fix spacing\n",
    "df_article['content'] = df_article['content'].apply(fix_spacing)\n",
    "# remove writer name\n",
    "df_article['content'] = df_article['content'].apply(remove_writer_name)"
   ]
  },
  {
   "cell_type": "code",
   "execution_count": 4,
   "id": "20cd038c",
   "metadata": {},
   "outputs": [],
   "source": [
    "import py_vncorenlp\n",
    "import os\n",
    "original_cwd = os.getcwd()\n",
    "rdrsegmenter = py_vncorenlp.VnCoreNLP(annotators=[\"wseg\"], save_dir=os.path.join(original_cwd, \"vncorenlp\"))\n",
    "os.chdir(original_cwd)"
   ]
  },
  {
   "cell_type": "code",
   "execution_count": 5,
   "id": "e5537d47",
   "metadata": {},
   "outputs": [],
   "source": [
    "with open('vietnamese-stopwords.txt', 'r', encoding='utf-8') as f:\n",
    "    stopwords = set(line.strip().lower() for line in f if line.strip())\n",
    "stopwords.add('sto')"
   ]
  },
  {
   "cell_type": "code",
   "execution_count": 41,
   "id": "626ded6d",
   "metadata": {},
   "outputs": [],
   "source": [
    "def is_noise_token(w):\n",
    "    return re.fullmatch(r'[\\W_]+', w) is not None \n",
    "\n",
    "def segment_article(article):\n",
    "    segmented_sentences = rdrsegmenter.word_segment(article) \n",
    "    tokenized_sentences = []\n",
    "\n",
    "    for sentence in segmented_sentences:\n",
    "        words = sentence.split()\n",
    "        \n",
    "        words = [\n",
    "            w for w in words \n",
    "            if w.lower() not in stopwords and not is_noise_token(w) # \n",
    "        ]\n",
    "\n",
    "        words = [w.replace(\"_\", \" \").lower() for w in words]\n",
    "        tokenized_sentences.append(words)\n",
    "    return tokenized_sentences"
   ]
  },
  {
   "cell_type": "code",
   "execution_count": 42,
   "id": "00718c61",
   "metadata": {},
   "outputs": [
    {
     "name": "stderr",
     "output_type": "stream",
     "text": [
      "100%|██████████| 6347/6347 [00:46<00:00, 136.29it/s]\n"
     ]
    }
   ],
   "source": [
    "all_tokenized_sentences = []\n",
    "\n",
    "for text in tqdm(df_article['content'].dropna(), total=len(df_article['content'])):\n",
    "    try:\n",
    "        tokenized = segment_article(text)\n",
    "        all_tokenized_sentences.extend(tokenized)\n",
    "    except Exception as e:\n",
    "        print(f\"Error segmenting text: {e}\")\n"
   ]
  },
  {
   "cell_type": "code",
   "execution_count": null,
   "id": "5c87284f",
   "metadata": {},
   "outputs": [],
   "source": [
    "model = Word2Vec(\n",
    "    sentences=all_tokenized_sentences,\n",
    "    vector_size=300,\n",
    "    window=6,\n",
    "    min_count=5,\n",
    "    sg=1,\n",
    "    workers=4\n",
    ")"
   ]
  },
  {
   "cell_type": "code",
   "execution_count": null,
   "id": "62e8a99c",
   "metadata": {},
   "outputs": [],
   "source": [
    "#model.save(\"word2vec_vi_bao_st.model\")"
   ]
  }
 ],
 "metadata": {
  "kernelspec": {
   "display_name": "Python 3",
   "language": "python",
   "name": "python3"
  },
  "language_info": {
   "codemirror_mode": {
    "name": "ipython",
    "version": 3
   },
   "file_extension": ".py",
   "mimetype": "text/x-python",
   "name": "python",
   "nbconvert_exporter": "python",
   "pygments_lexer": "ipython3",
   "version": "3.10.8"
  }
 },
 "nbformat": 4,
 "nbformat_minor": 5
}
